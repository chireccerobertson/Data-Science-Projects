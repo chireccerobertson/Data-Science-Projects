{
 "cells": [
  {
   "cell_type": "markdown",
   "id": "85195a28",
   "metadata": {},
   "source": [
    "# Module 1 - Task 1: Data Exploration for Insurance Success\n",
    "In our project, \"Smart Insights for Insurance Success: Predicting Customer Conversion,\" this task involves importing and exploring the 'customers_dataset.csv'. This initial step is crucial as it sets the foundation for understanding the dataset's structure, features, and potential insights it holds. By examining this data, we aim to gain preliminary insights that will guide our subsequent analyses towards predicting customer conversion.\n",
    "- Import Pandas and alias it as 'pd'.\n",
    "- Read the CSV file movies customers_dataset.csv into a Pandas DataFrame named 'df'.\n",
    "- To import the 'customers_dataset.csv' file, which is located in the root path of your project, you should use the following path: './customers_dataset.csv'.\n",
    "- Inspect the data by calling the variable 'df'.\n"
   ]
  },
  {
   "cell_type": "code",
   "execution_count": 3,
   "id": "68aa6173",
   "metadata": {},
   "outputs": [],
   "source": [
    "import pandas as pd\n",
    "df = pd.read_csv(\"/Users/chireccerobertson/Desktop/customers_dataset.csv\")"
   ]
  },
  {
   "cell_type": "markdown",
   "id": "2c5e4e37",
   "metadata": {},
   "source": [
    "# Module 1 - Task 2: Identifying Null Values\n",
    "In this task, we aim to identify null values within the dataset ('customers_dataset.csv'). The count of null values (sumofnull) will assist us in understanding the extent of missing data across different features. This exploration is essential for data preprocessing, ensuring that we handle missing values appropriately to maintain data integrity for accurate predictive modeling.- Apply the '.isnull()' method on the DataFrame 'df' to create a Boolean DataFrame that marks missing (null) values as 'True' and non-null values as 'False'.\n",
    "- Calculate the sum of null values for each column by using '.sum()' on the resulting Boolean DataFrame.\n",
    "- The variable 'sumofnull' now stores the count of null values for each column in the DataFrame 'df'.\n"
   ]
  },
  {
   "cell_type": "code",
   "execution_count": 6,
   "id": "6b1a3196",
   "metadata": {},
   "outputs": [
    {
     "data": {
      "text/plain": [
       "age               0\n",
       "job               0\n",
       "marital           0\n",
       "education_qual    0\n",
       "call_type         0\n",
       "day               0\n",
       "mon               0\n",
       "dur               0\n",
       "num_calls         0\n",
       "prev_outcome      0\n",
       "y                 0\n",
       "dtype: int64"
      ]
     },
     "execution_count": 6,
     "metadata": {},
     "output_type": "execute_result"
    }
   ],
   "source": [
    "sumofnull = df.isnull().sum()\n",
    "sumofnull"
   ]
  },
  {
   "cell_type": "markdown",
   "id": "73e83e45",
   "metadata": {},
   "source": [
    "# Module 1 - Task 3 : Examining Data Types\n",
    "This task involves examining the data types present in the dataset. The 'dtype' variable holds information about the data types of various features. Understanding the data types is crucial for preprocessing and modeling steps. It assists in ensuring that the data is appropriately represented for predictive analytics, enabling us to make informed decisions on feature engineering and transformations.\n",
    "- Use the '.dtypes' attribute on the DataFrame 'df' to retrieve the data types of each column.\n",
    "- The variable 'dtype' now contains a Series that lists the data types of the columns in the DataFrame 'df'."
   ]
  },
  {
   "cell_type": "code",
   "execution_count": 7,
   "id": "c0efe6c9",
   "metadata": {},
   "outputs": [
    {
     "data": {
      "text/plain": [
       "age                int64\n",
       "job               object\n",
       "marital           object\n",
       "education_qual    object\n",
       "call_type         object\n",
       "day                int64\n",
       "mon               object\n",
       "dur                int64\n",
       "num_calls          int64\n",
       "prev_outcome      object\n",
       "y                 object\n",
       "dtype: object"
      ]
     },
     "execution_count": 7,
     "metadata": {},
     "output_type": "execute_result"
    }
   ],
   "source": [
    "dtype = df.dtypes\n",
    "dtype"
   ]
  },
  {
   "cell_type": "markdown",
   "id": "a16d5133",
   "metadata": {},
   "source": [
    "# Module 1 - Task 4 : Statistical Description of the Dataset\n",
    "This task involves generating a statistical summary ('describe') of the dataset. The summary includes key statistical measures such as mean, standard deviation, minimum, maximum, and quartile values for numerical features. This descriptive analysis aids in gaining insights into the distribution and characteristics of the dataset's numerical variables, guiding further exploration and potential feature selection or engineering for the predictive modeling process.\n",
    "- Utilize a method (hint: usually a method named 'describe') to produce descriptive statistics for the DataFrame 'df'.\n",
    "- Assign the resulting descriptive statistics to a variable named 'describe'."
   ]
  },
  {
   "cell_type": "code",
   "execution_count": 9,
   "id": "72b73d35",
   "metadata": {},
   "outputs": [
    {
     "data": {
      "text/html": [
       "<div>\n",
       "<style scoped>\n",
       "    .dataframe tbody tr th:only-of-type {\n",
       "        vertical-align: middle;\n",
       "    }\n",
       "\n",
       "    .dataframe tbody tr th {\n",
       "        vertical-align: top;\n",
       "    }\n",
       "\n",
       "    .dataframe thead th {\n",
       "        text-align: right;\n",
       "    }\n",
       "</style>\n",
       "<table border=\"1\" class=\"dataframe\">\n",
       "  <thead>\n",
       "    <tr style=\"text-align: right;\">\n",
       "      <th></th>\n",
       "      <th>age</th>\n",
       "      <th>day</th>\n",
       "      <th>dur</th>\n",
       "      <th>num_calls</th>\n",
       "    </tr>\n",
       "  </thead>\n",
       "  <tbody>\n",
       "    <tr>\n",
       "      <th>count</th>\n",
       "      <td>45211.000000</td>\n",
       "      <td>45211.000000</td>\n",
       "      <td>45211.000000</td>\n",
       "      <td>45211.000000</td>\n",
       "    </tr>\n",
       "    <tr>\n",
       "      <th>mean</th>\n",
       "      <td>40.936210</td>\n",
       "      <td>15.806419</td>\n",
       "      <td>258.163080</td>\n",
       "      <td>2.763841</td>\n",
       "    </tr>\n",
       "    <tr>\n",
       "      <th>std</th>\n",
       "      <td>10.618762</td>\n",
       "      <td>8.322476</td>\n",
       "      <td>257.527812</td>\n",
       "      <td>3.098021</td>\n",
       "    </tr>\n",
       "    <tr>\n",
       "      <th>min</th>\n",
       "      <td>18.000000</td>\n",
       "      <td>1.000000</td>\n",
       "      <td>0.000000</td>\n",
       "      <td>1.000000</td>\n",
       "    </tr>\n",
       "    <tr>\n",
       "      <th>25%</th>\n",
       "      <td>33.000000</td>\n",
       "      <td>8.000000</td>\n",
       "      <td>103.000000</td>\n",
       "      <td>1.000000</td>\n",
       "    </tr>\n",
       "    <tr>\n",
       "      <th>50%</th>\n",
       "      <td>39.000000</td>\n",
       "      <td>16.000000</td>\n",
       "      <td>180.000000</td>\n",
       "      <td>2.000000</td>\n",
       "    </tr>\n",
       "    <tr>\n",
       "      <th>75%</th>\n",
       "      <td>48.000000</td>\n",
       "      <td>21.000000</td>\n",
       "      <td>319.000000</td>\n",
       "      <td>3.000000</td>\n",
       "    </tr>\n",
       "    <tr>\n",
       "      <th>max</th>\n",
       "      <td>95.000000</td>\n",
       "      <td>31.000000</td>\n",
       "      <td>4918.000000</td>\n",
       "      <td>63.000000</td>\n",
       "    </tr>\n",
       "  </tbody>\n",
       "</table>\n",
       "</div>"
      ],
      "text/plain": [
       "                age           day           dur     num_calls\n",
       "count  45211.000000  45211.000000  45211.000000  45211.000000\n",
       "mean      40.936210     15.806419    258.163080      2.763841\n",
       "std       10.618762      8.322476    257.527812      3.098021\n",
       "min       18.000000      1.000000      0.000000      1.000000\n",
       "25%       33.000000      8.000000    103.000000      1.000000\n",
       "50%       39.000000     16.000000    180.000000      2.000000\n",
       "75%       48.000000     21.000000    319.000000      3.000000\n",
       "max       95.000000     31.000000   4918.000000     63.000000"
      ]
     },
     "execution_count": 9,
     "metadata": {},
     "output_type": "execute_result"
    }
   ],
   "source": [
    "describe = df.describe()\n",
    "describe"
   ]
  },
  {
   "cell_type": "markdown",
   "id": "38dc2198",
   "metadata": {},
   "source": [
    "# Module 1 - Task 5 : Analyzing Target Variable Distribution\n",
    "This task focuses on analyzing the distribution of the target variable ('y') in the dataset. By utilizing 'value_counts()', we obtain a count of each unique value present in the target variable. Understanding the distribution of the target variable is crucial for predictive modeling, as it provides insights into the balance or imbalance of classes. This analysis aids in determining the appropriate strategies for model training and evaluation in the context of predicting customer conversion in insurance success.\n",
    "- Calculate the count of unique values in the 'y' column of the DataFrame 'df'.\n",
    "- Store the counts of these unique values in a variable named 'value_counts'.\n"
   ]
  },
  {
   "cell_type": "code",
   "execution_count": 11,
   "id": "c1f826e9",
   "metadata": {},
   "outputs": [
    {
     "data": {
      "text/plain": [
       "no     39922\n",
       "yes     5289\n",
       "Name: y, dtype: int64"
      ]
     },
     "execution_count": 11,
     "metadata": {},
     "output_type": "execute_result"
    }
   ],
   "source": [
    "value_counts = df['y'].value_counts()\n",
    "value_counts"
   ]
  },
  {
   "cell_type": "markdown",
   "id": "c46b9bbd",
   "metadata": {},
   "source": [
    "# Module 2 - Task 1: Identifying Duplicate Records\n",
    "In this task, we aim to identify and quantify the presence of duplicate records within the dataset. The count of duplicates (referred to as 'duplicates') indicates the number of rows that are identical to others. Recognizing and handling duplicate entries is crucial for ensuring data integrity and accuracy in predictive modeling. This process helps in eliminating redundancy, thereby preventing potential biases or inaccuracies in predicting customer conversion for insurance success.\n",
    "\n",
    "- Use the '.duplicated()' method followed by '.sum()' on the DataFrame 'df' to count the number of duplicate rows.\n",
    "- Store the count of duplicate rows in the variable 'duplicates'."
   ]
  },
  {
   "cell_type": "code",
   "execution_count": 12,
   "id": "6dd7a17d",
   "metadata": {},
   "outputs": [
    {
     "data": {
      "text/plain": [
       "6"
      ]
     },
     "execution_count": 12,
     "metadata": {},
     "output_type": "execute_result"
    }
   ],
   "source": [
    "duplicates = df.duplicated().sum()\n",
    "duplicates"
   ]
  },
  {
   "cell_type": "markdown",
   "id": "b58ab6c9",
   "metadata": {},
   "source": [
    "# Module 2 - Task 2 : Removing Duplicate Records\n",
    "Building upon the previous task's findings, this step involves removing duplicate records within the dataset. By executing the code to eliminate duplicates, we ensure the dataset is streamlined, containing only unique entries. Removing duplicates is crucial for maintaining data quality and integrity, ultimately aiding in more accurate predictive modeling for customer conversion in the insurance success context.\n",
    "- Execute the removal of duplicate rows within the DataFrame 'df' using the 'drop_duplicates' method with 'inplace=True'."
   ]
  },
  {
   "cell_type": "code",
   "execution_count": 17,
   "id": "148394d3",
   "metadata": {},
   "outputs": [
    {
     "data": {
      "text/html": [
       "<div>\n",
       "<style scoped>\n",
       "    .dataframe tbody tr th:only-of-type {\n",
       "        vertical-align: middle;\n",
       "    }\n",
       "\n",
       "    .dataframe tbody tr th {\n",
       "        vertical-align: top;\n",
       "    }\n",
       "\n",
       "    .dataframe thead th {\n",
       "        text-align: right;\n",
       "    }\n",
       "</style>\n",
       "<table border=\"1\" class=\"dataframe\">\n",
       "  <thead>\n",
       "    <tr style=\"text-align: right;\">\n",
       "      <th></th>\n",
       "      <th>age</th>\n",
       "      <th>job</th>\n",
       "      <th>marital</th>\n",
       "      <th>education_qual</th>\n",
       "      <th>call_type</th>\n",
       "      <th>day</th>\n",
       "      <th>mon</th>\n",
       "      <th>dur</th>\n",
       "      <th>num_calls</th>\n",
       "      <th>prev_outcome</th>\n",
       "      <th>y</th>\n",
       "    </tr>\n",
       "  </thead>\n",
       "  <tbody>\n",
       "    <tr>\n",
       "      <th>0</th>\n",
       "      <td>58</td>\n",
       "      <td>management</td>\n",
       "      <td>married</td>\n",
       "      <td>tertiary</td>\n",
       "      <td>unknown</td>\n",
       "      <td>5</td>\n",
       "      <td>may</td>\n",
       "      <td>261</td>\n",
       "      <td>1</td>\n",
       "      <td>unknown</td>\n",
       "      <td>no</td>\n",
       "    </tr>\n",
       "    <tr>\n",
       "      <th>1</th>\n",
       "      <td>44</td>\n",
       "      <td>technician</td>\n",
       "      <td>single</td>\n",
       "      <td>secondary</td>\n",
       "      <td>unknown</td>\n",
       "      <td>5</td>\n",
       "      <td>may</td>\n",
       "      <td>151</td>\n",
       "      <td>1</td>\n",
       "      <td>unknown</td>\n",
       "      <td>no</td>\n",
       "    </tr>\n",
       "    <tr>\n",
       "      <th>2</th>\n",
       "      <td>33</td>\n",
       "      <td>entrepreneur</td>\n",
       "      <td>married</td>\n",
       "      <td>secondary</td>\n",
       "      <td>unknown</td>\n",
       "      <td>5</td>\n",
       "      <td>may</td>\n",
       "      <td>76</td>\n",
       "      <td>1</td>\n",
       "      <td>unknown</td>\n",
       "      <td>no</td>\n",
       "    </tr>\n",
       "    <tr>\n",
       "      <th>3</th>\n",
       "      <td>47</td>\n",
       "      <td>blue-collar</td>\n",
       "      <td>married</td>\n",
       "      <td>unknown</td>\n",
       "      <td>unknown</td>\n",
       "      <td>5</td>\n",
       "      <td>may</td>\n",
       "      <td>92</td>\n",
       "      <td>1</td>\n",
       "      <td>unknown</td>\n",
       "      <td>no</td>\n",
       "    </tr>\n",
       "    <tr>\n",
       "      <th>4</th>\n",
       "      <td>33</td>\n",
       "      <td>unknown</td>\n",
       "      <td>single</td>\n",
       "      <td>unknown</td>\n",
       "      <td>unknown</td>\n",
       "      <td>5</td>\n",
       "      <td>may</td>\n",
       "      <td>198</td>\n",
       "      <td>1</td>\n",
       "      <td>unknown</td>\n",
       "      <td>no</td>\n",
       "    </tr>\n",
       "    <tr>\n",
       "      <th>...</th>\n",
       "      <td>...</td>\n",
       "      <td>...</td>\n",
       "      <td>...</td>\n",
       "      <td>...</td>\n",
       "      <td>...</td>\n",
       "      <td>...</td>\n",
       "      <td>...</td>\n",
       "      <td>...</td>\n",
       "      <td>...</td>\n",
       "      <td>...</td>\n",
       "      <td>...</td>\n",
       "    </tr>\n",
       "    <tr>\n",
       "      <th>45206</th>\n",
       "      <td>51</td>\n",
       "      <td>technician</td>\n",
       "      <td>married</td>\n",
       "      <td>tertiary</td>\n",
       "      <td>cellular</td>\n",
       "      <td>17</td>\n",
       "      <td>nov</td>\n",
       "      <td>977</td>\n",
       "      <td>3</td>\n",
       "      <td>unknown</td>\n",
       "      <td>yes</td>\n",
       "    </tr>\n",
       "    <tr>\n",
       "      <th>45207</th>\n",
       "      <td>71</td>\n",
       "      <td>retired</td>\n",
       "      <td>divorced</td>\n",
       "      <td>primary</td>\n",
       "      <td>cellular</td>\n",
       "      <td>17</td>\n",
       "      <td>nov</td>\n",
       "      <td>456</td>\n",
       "      <td>2</td>\n",
       "      <td>unknown</td>\n",
       "      <td>yes</td>\n",
       "    </tr>\n",
       "    <tr>\n",
       "      <th>45208</th>\n",
       "      <td>72</td>\n",
       "      <td>retired</td>\n",
       "      <td>married</td>\n",
       "      <td>secondary</td>\n",
       "      <td>cellular</td>\n",
       "      <td>17</td>\n",
       "      <td>nov</td>\n",
       "      <td>1127</td>\n",
       "      <td>5</td>\n",
       "      <td>success</td>\n",
       "      <td>yes</td>\n",
       "    </tr>\n",
       "    <tr>\n",
       "      <th>45209</th>\n",
       "      <td>57</td>\n",
       "      <td>blue-collar</td>\n",
       "      <td>married</td>\n",
       "      <td>secondary</td>\n",
       "      <td>telephone</td>\n",
       "      <td>17</td>\n",
       "      <td>nov</td>\n",
       "      <td>508</td>\n",
       "      <td>4</td>\n",
       "      <td>unknown</td>\n",
       "      <td>no</td>\n",
       "    </tr>\n",
       "    <tr>\n",
       "      <th>45210</th>\n",
       "      <td>37</td>\n",
       "      <td>entrepreneur</td>\n",
       "      <td>married</td>\n",
       "      <td>secondary</td>\n",
       "      <td>cellular</td>\n",
       "      <td>17</td>\n",
       "      <td>nov</td>\n",
       "      <td>361</td>\n",
       "      <td>2</td>\n",
       "      <td>other</td>\n",
       "      <td>no</td>\n",
       "    </tr>\n",
       "  </tbody>\n",
       "</table>\n",
       "<p>45205 rows × 11 columns</p>\n",
       "</div>"
      ],
      "text/plain": [
       "       age           job   marital education_qual  call_type  day  mon   dur  \\\n",
       "0       58    management   married       tertiary    unknown    5  may   261   \n",
       "1       44    technician    single      secondary    unknown    5  may   151   \n",
       "2       33  entrepreneur   married      secondary    unknown    5  may    76   \n",
       "3       47   blue-collar   married        unknown    unknown    5  may    92   \n",
       "4       33       unknown    single        unknown    unknown    5  may   198   \n",
       "...    ...           ...       ...            ...        ...  ...  ...   ...   \n",
       "45206   51    technician   married       tertiary   cellular   17  nov   977   \n",
       "45207   71       retired  divorced        primary   cellular   17  nov   456   \n",
       "45208   72       retired   married      secondary   cellular   17  nov  1127   \n",
       "45209   57   blue-collar   married      secondary  telephone   17  nov   508   \n",
       "45210   37  entrepreneur   married      secondary   cellular   17  nov   361   \n",
       "\n",
       "       num_calls prev_outcome    y  \n",
       "0              1      unknown   no  \n",
       "1              1      unknown   no  \n",
       "2              1      unknown   no  \n",
       "3              1      unknown   no  \n",
       "4              1      unknown   no  \n",
       "...          ...          ...  ...  \n",
       "45206          3      unknown  yes  \n",
       "45207          2      unknown  yes  \n",
       "45208          5      success  yes  \n",
       "45209          4      unknown   no  \n",
       "45210          2        other   no  \n",
       "\n",
       "[45205 rows x 11 columns]"
      ]
     },
     "execution_count": 17,
     "metadata": {},
     "output_type": "execute_result"
    }
   ],
   "source": [
    "df.drop_duplicates(inplace=True)\n",
    "df"
   ]
  },
  {
   "cell_type": "markdown",
   "id": "650e3a3a",
   "metadata": {},
   "source": [
    "# Module 3 - Task 1 : Visualizing Target Variable Distribution\n",
    "In this task, we create a count plot ('target_ax') using Seaborn and Matplotlib to visualize the distribution of the target variable ('y'). Visualizing the target variable's distribution helps in understanding the balance or imbalance between classes, which is essential for predictive modeling. This visualization aids in assessing the proportion of converted and non-converted customers, providing valuable insights for insurance success predictions.\n",
    "- Generate a count plot using Seaborn's countplot for the target variable 'y' in the DataFrame 'df' and assign it to the variable 'target_ax'.\n"
   ]
  },
  {
   "cell_type": "code",
   "execution_count": 19,
   "id": "171317e2",
   "metadata": {},
   "outputs": [
    {
     "data": {
      "image/png": "[encoded data removed]",
      "text/plain": [
       "<Figure size 640x480 with 1 Axes>"
      ]
     },
     "metadata": {},
     "output_type": "display_data"
    }
   ],
   "source": [
    "import matplotlib.pyplot as plt\n",
    "import seaborn as sns\n",
    "\n",
    "target_ax = sns.countplot(x=df['y'])"
   ]
  },
  {
   "cell_type": "markdown",
   "id": "f18205f3",
   "metadata": {},
   "source": [
    "# Module 3 - Task 2 : Visualizing Job Distribution\n",
    "This task involves creating a count plot ('job_ax') using Seaborn to visualize the distribution of customer jobs. Understanding the distribution of jobs among customers is beneficial for gaining insights into the customer demographic and potentially identifying patterns or trends that could impact insurance conversion. This visualization assists in comprehending the diversity of occupations among customers, contributing to the overall analysis for predicting insurance success.\n",
    "- Create a count plot depicting the distribution of the 'job' variable using seaborn's 'countplot' function and save the plot in the variable 'job_ax'."
   ]
  },
  {
   "cell_type": "code",
   "execution_count": 20,
   "id": "603d1b78",
   "metadata": {},
   "outputs": [
    {
     "data": {
      "image/png": "[encoded data removed]",
      "text/plain": [
       "<Figure size 640x480 with 1 Axes>"
      ]
     },
     "metadata": {},
     "output_type": "display_data"
    }
   ],
   "source": [
    "job_ax = sns.countplot(x=df['job'])"
   ]
  },
  {
   "cell_type": "markdown",
   "id": "efc8bd7f",
   "metadata": {},
   "source": [
    "# Module 3 - Task 3 : Visualizing Marital Status Distribution\n",
    "In this task, we generate a count plot ('martial_ax') using Seaborn to visualize the distribution of customer marital statuses. Understanding the distribution of marital statuses among customers contributes to a comprehensive understanding of the customer demographic. This visualization assists in assessing whether marital status might influence insurance conversion rates, providing valuable insights for predictive modeling in the context of insurance success.\n",
    "- Use seaborn's 'countplot' function to visualize the distribution of the 'marital' variable and store the plot in the variable 'martial_ax'."
   ]
  },
  {
   "cell_type": "code",
   "execution_count": 22,
   "id": "f1e69038",
   "metadata": {},
   "outputs": [
    {
     "data": {
      "image/png": "[encoded data removed]",
      "text/plain": [
       "<Figure size 640x480 with 1 Axes>"
      ]
     },
     "metadata": {},
     "output_type": "display_data"
    }
   ],
   "source": [
    "marital_ax = sns.countplot(x=df['marital'])"
   ]
  },
  {
   "cell_type": "markdown",
   "id": "ee11c9c9",
   "metadata": {},
   "source": [
    "# Module 3 - Task 4 : Visualizing Education Level Distribution\n",
    "\n",
    "This task involves creating a count plot ('edu_ax') using Seaborn to visualize the distribution of customers' education levels. Understanding the distribution of education levels among customers is crucial for evaluating the demographic landscape. This visualization aids in assessing how education levels might correlate with insurance conversion rates, providing valuable insights for predictive modeling in the insurance success context.\n",
    "- Employ seaborn's 'countplot' function to illustrate the distribution of the 'education_qual' variable, storing the resulting plot in the variable 'edu_ax'."
   ]
  },
  {
   "cell_type": "code",
   "execution_count": 23,
   "id": "76292aef",
   "metadata": {},
   "outputs": [
    {
     "data": {
      "image/png": "[encoded data removed]",
      "text/plain": [
       "<Figure size 640x480 with 1 Axes>"
      ]
     },
     "metadata": {},
     "output_type": "display_data"
    }
   ],
   "source": [
    "edu_ax = sns.countplot(x=df['education_qual'])"
   ]
  },
  {
   "cell_type": "markdown",
   "id": "1cde27e7",
   "metadata": {},
   "source": [
    "# Module 3 - Task 5 : Visualizing Call Type Distribution\n",
    "In this task, we create a count plot ('calltype_ax') using Seaborn to visualize the distribution of different call types made. Understanding the distribution of call types can provide insights into the communication methods used, potentially influencing customer conversion. This visualization assists in understanding the frequency and types of calls made, contributing to the analysis for predicting insurance success.\n",
    "- Utilize seaborn's 'countplot' function to display the distribution of the 'call_type' variable and assign the plot to the variable 'calltype_ax'."
   ]
  },
  {
   "cell_type": "code",
   "execution_count": 24,
   "id": "b21f0823",
   "metadata": {},
   "outputs": [
    {
     "data": {
      "image/png": "[encoded data removed]",
      "text/plain": [
       "<Figure size 640x480 with 1 Axes>"
      ]
     },
     "metadata": {},
     "output_type": "display_data"
    }
   ],
   "source": [
    "calltype_ax = sns.countplot(x=df['call_type'])"
   ]
  },
  {
   "cell_type": "markdown",
   "id": "e2b73b9e",
   "metadata": {},
   "source": [
    "# Module 3 - Task 6 : Visualizing Month Distribution\n",
    "This task involves creating a count plot ('month_ax') using Seaborn to visualize the distribution of months concerning customer interactions. Analyzing the distribution of months in which interactions occurred can reveal seasonal trends or patterns in customer behavior. This visualization aids in understanding the temporal distribution of interactions, contributing to the analysis for predicting insurance success.\n",
    "- Produce a count plot of the 'mon' variable using seaborn's 'countplot' function and store it in the variable 'month_ax'."
   ]
  },
  {
   "cell_type": "code",
   "execution_count": 25,
   "id": "a958b300",
   "metadata": {},
   "outputs": [
    {
     "data": {
      "image/png": "[encoded data removed]",
      "text/plain": [
       "<Figure size 640x480 with 1 Axes>"
      ]
     },
     "metadata": {},
     "output_type": "display_data"
    }
   ],
   "source": [
    "month_ax = sns.countplot(x=df['mon'])"
   ]
  },
  {
   "cell_type": "markdown",
   "id": "b009463c",
   "metadata": {},
   "source": [
    "# Module 3 - Task 7 : Visualizing Previous Outcome Distribution\n",
    "\n",
    "\n",
    "In this task, a count plot ('outcome_ax') using Seaborn is created to visualize the distribution of previous outcomes from customer interactions. Understanding the distribution of previous outcomes can offer insights into historical customer responses, potentially influencing future conversions. This visualization aids in comprehending the impact of past outcomes on present interactions, contributing to the analysis for predicting insurance success.\n",
    "- Generate a count plot depicting the distribution of the 'prev_outcome' variable and save the plot in the variable 'outcome_ax'."
   ]
  },
  {
   "cell_type": "code",
   "execution_count": 26,
   "id": "5175231f",
   "metadata": {},
   "outputs": [
    {
     "data": {
      "image/png": "[encoded data removed]",
      "text/plain": [
       "<Figure size 640x480 with 1 Axes>"
      ]
     },
     "metadata": {},
     "output_type": "display_data"
    }
   ],
   "source": [
    "outcome_ax = sns.countplot(x=df['prev_outcome'])"
   ]
  },
  {
   "cell_type": "markdown",
   "id": "be77143c",
   "metadata": {},
   "source": [
    "# Module 4 - Task 1 : Encoding Categorical Variables\n",
    "\n",
    "In this task, the LabelEncoder from sklearn.preprocessing is utilized to encode categorical variables in the dataset. Categorical features such as 'job', 'marital', 'education_qual', 'call_type', 'mon', 'prev_outcome', and 'y' are encoded for numerical representation. Encoding categorical variables is essential for preparing the data for machine learning models, ensuring that categorical data can be appropriately utilized in predictive modeling for insurance success.\n",
    "- Make a copy of dataframe 'df' and store it in variable 'data'.\n",
    "- Utilize the 'LabelEncoder()' from 'sklearn.preprocessing' to encode categorical columns like 'job', 'marital', 'education_qual', 'call_type','mon', 'prev_outcome', 'y' in the DataFrame 'data'.\n",
    "- Display the modified 'data' DataFrame after the encoding process."
   ]
  },
  {
   "cell_type": "code",
   "execution_count": 4,
   "id": "8251cae8",
   "metadata": {},
   "outputs": [
    {
     "data": {
      "text/html": [
       "<div>\n",
       "<style scoped>\n",
       "    .dataframe tbody tr th:only-of-type {\n",
       "        vertical-align: middle;\n",
       "    }\n",
       "\n",
       "    .dataframe tbody tr th {\n",
       "        vertical-align: top;\n",
       "    }\n",
       "\n",
       "    .dataframe thead th {\n",
       "        text-align: right;\n",
       "    }\n",
       "</style>\n",
       "<table border=\"1\" class=\"dataframe\">\n",
       "  <thead>\n",
       "    <tr style=\"text-align: right;\">\n",
       "      <th></th>\n",
       "      <th>age</th>\n",
       "      <th>job</th>\n",
       "      <th>marital</th>\n",
       "      <th>education_qual</th>\n",
       "      <th>call_type</th>\n",
       "      <th>day</th>\n",
       "      <th>mon</th>\n",
       "      <th>dur</th>\n",
       "      <th>num_calls</th>\n",
       "      <th>prev_outcome</th>\n",
       "      <th>y</th>\n",
       "    </tr>\n",
       "  </thead>\n",
       "  <tbody>\n",
       "    <tr>\n",
       "      <th>0</th>\n",
       "      <td>58</td>\n",
       "      <td>4</td>\n",
       "      <td>1</td>\n",
       "      <td>2</td>\n",
       "      <td>2</td>\n",
       "      <td>5</td>\n",
       "      <td>8</td>\n",
       "      <td>261</td>\n",
       "      <td>1</td>\n",
       "      <td>3</td>\n",
       "      <td>0</td>\n",
       "    </tr>\n",
       "    <tr>\n",
       "      <th>1</th>\n",
       "      <td>44</td>\n",
       "      <td>9</td>\n",
       "      <td>2</td>\n",
       "      <td>1</td>\n",
       "      <td>2</td>\n",
       "      <td>5</td>\n",
       "      <td>8</td>\n",
       "      <td>151</td>\n",
       "      <td>1</td>\n",
       "      <td>3</td>\n",
       "      <td>0</td>\n",
       "    </tr>\n",
       "    <tr>\n",
       "      <th>2</th>\n",
       "      <td>33</td>\n",
       "      <td>2</td>\n",
       "      <td>1</td>\n",
       "      <td>1</td>\n",
       "      <td>2</td>\n",
       "      <td>5</td>\n",
       "      <td>8</td>\n",
       "      <td>76</td>\n",
       "      <td>1</td>\n",
       "      <td>3</td>\n",
       "      <td>0</td>\n",
       "    </tr>\n",
       "    <tr>\n",
       "      <th>3</th>\n",
       "      <td>47</td>\n",
       "      <td>1</td>\n",
       "      <td>1</td>\n",
       "      <td>3</td>\n",
       "      <td>2</td>\n",
       "      <td>5</td>\n",
       "      <td>8</td>\n",
       "      <td>92</td>\n",
       "      <td>1</td>\n",
       "      <td>3</td>\n",
       "      <td>0</td>\n",
       "    </tr>\n",
       "    <tr>\n",
       "      <th>4</th>\n",
       "      <td>33</td>\n",
       "      <td>11</td>\n",
       "      <td>2</td>\n",
       "      <td>3</td>\n",
       "      <td>2</td>\n",
       "      <td>5</td>\n",
       "      <td>8</td>\n",
       "      <td>198</td>\n",
       "      <td>1</td>\n",
       "      <td>3</td>\n",
       "      <td>0</td>\n",
       "    </tr>\n",
       "    <tr>\n",
       "      <th>...</th>\n",
       "      <td>...</td>\n",
       "      <td>...</td>\n",
       "      <td>...</td>\n",
       "      <td>...</td>\n",
       "      <td>...</td>\n",
       "      <td>...</td>\n",
       "      <td>...</td>\n",
       "      <td>...</td>\n",
       "      <td>...</td>\n",
       "      <td>...</td>\n",
       "      <td>...</td>\n",
       "    </tr>\n",
       "    <tr>\n",
       "      <th>45206</th>\n",
       "      <td>51</td>\n",
       "      <td>9</td>\n",
       "      <td>1</td>\n",
       "      <td>2</td>\n",
       "      <td>0</td>\n",
       "      <td>17</td>\n",
       "      <td>9</td>\n",
       "      <td>977</td>\n",
       "      <td>3</td>\n",
       "      <td>3</td>\n",
       "      <td>1</td>\n",
       "    </tr>\n",
       "    <tr>\n",
       "      <th>45207</th>\n",
       "      <td>71</td>\n",
       "      <td>5</td>\n",
       "      <td>0</td>\n",
       "      <td>0</td>\n",
       "      <td>0</td>\n",
       "      <td>17</td>\n",
       "      <td>9</td>\n",
       "      <td>456</td>\n",
       "      <td>2</td>\n",
       "      <td>3</td>\n",
       "      <td>1</td>\n",
       "    </tr>\n",
       "    <tr>\n",
       "      <th>45208</th>\n",
       "      <td>72</td>\n",
       "      <td>5</td>\n",
       "      <td>1</td>\n",
       "      <td>1</td>\n",
       "      <td>0</td>\n",
       "      <td>17</td>\n",
       "      <td>9</td>\n",
       "      <td>1127</td>\n",
       "      <td>5</td>\n",
       "      <td>2</td>\n",
       "      <td>1</td>\n",
       "    </tr>\n",
       "    <tr>\n",
       "      <th>45209</th>\n",
       "      <td>57</td>\n",
       "      <td>1</td>\n",
       "      <td>1</td>\n",
       "      <td>1</td>\n",
       "      <td>1</td>\n",
       "      <td>17</td>\n",
       "      <td>9</td>\n",
       "      <td>508</td>\n",
       "      <td>4</td>\n",
       "      <td>3</td>\n",
       "      <td>0</td>\n",
       "    </tr>\n",
       "    <tr>\n",
       "      <th>45210</th>\n",
       "      <td>37</td>\n",
       "      <td>2</td>\n",
       "      <td>1</td>\n",
       "      <td>1</td>\n",
       "      <td>0</td>\n",
       "      <td>17</td>\n",
       "      <td>9</td>\n",
       "      <td>361</td>\n",
       "      <td>2</td>\n",
       "      <td>1</td>\n",
       "      <td>0</td>\n",
       "    </tr>\n",
       "  </tbody>\n",
       "</table>\n",
       "<p>45211 rows × 11 columns</p>\n",
       "</div>"
      ],
      "text/plain": [
       "       age  job  marital  education_qual  call_type  day  mon   dur  \\\n",
       "0       58    4        1               2          2    5    8   261   \n",
       "1       44    9        2               1          2    5    8   151   \n",
       "2       33    2        1               1          2    5    8    76   \n",
       "3       47    1        1               3          2    5    8    92   \n",
       "4       33   11        2               3          2    5    8   198   \n",
       "...    ...  ...      ...             ...        ...  ...  ...   ...   \n",
       "45206   51    9        1               2          0   17    9   977   \n",
       "45207   71    5        0               0          0   17    9   456   \n",
       "45208   72    5        1               1          0   17    9  1127   \n",
       "45209   57    1        1               1          1   17    9   508   \n",
       "45210   37    2        1               1          0   17    9   361   \n",
       "\n",
       "       num_calls  prev_outcome  y  \n",
       "0              1             3  0  \n",
       "1              1             3  0  \n",
       "2              1             3  0  \n",
       "3              1             3  0  \n",
       "4              1             3  0  \n",
       "...          ...           ... ..  \n",
       "45206          3             3  1  \n",
       "45207          2             3  1  \n",
       "45208          5             2  1  \n",
       "45209          4             3  0  \n",
       "45210          2             1  0  \n",
       "\n",
       "[45211 rows x 11 columns]"
      ]
     },
     "execution_count": 4,
     "metadata": {},
     "output_type": "execute_result"
    }
   ],
   "source": [
    "import pandas as pd\n",
    "from sklearn.preprocessing import LabelEncoder\n",
    "\n",
    "#Make copy of dataframe and initialize LabelEncoder()\n",
    "data = df.copy()\n",
    "encoder = LabelEncoder()\n",
    "\n",
    "# List of categorical columns to encode\n",
    "categorical = ['job', 'marital', 'education_qual', 'call_type', 'mon', 'prev_outcome', 'y']\n",
    "\n",
    "for feature in categorical:\n",
    "    data[feature] = encoder.fit_transform(data[feature])\n",
    "\n",
    "data"
   ]
  },
  {
   "cell_type": "markdown",
   "id": "618e8cf3",
   "metadata": {},
   "source": [
    "# Module 4 - Task 2 : Addressing Class Imbalance using SMOTE\n",
    "In this task, the Synthetic Minority Over-sampling Technique (SMOTE) from the imbalanced-learn library is utilized to address class imbalance in the target variable 'y'. SMOTE generates synthetic samples for the minority class to balance the dataset. This is crucial for improving the model's ability to learn from the minority class, ensuring a more robust predictive model for insurance success without being biased towards the majority class.\n",
    "- Implement the Synthetic Minority Over-sampling Technique (SMOTE) from 'imblearn.over_sampling' to oversample the minority class in the 'y' column.\n",
    "- Separate the features into 'X' and the target variable into 'y' by excluding the 'y' column from 'X'.\n",
    "- Perform oversampling using SMOTE's 'fit_resample()' method on 'X' and 'y' and use random_state as '4' for reproduciblity\n",
    "- Display the resampled target variable 'y_res'."
   ]
  },
  {
   "cell_type": "code",
   "execution_count": 5,
   "id": "9351ffe1",
   "metadata": {},
   "outputs": [
    {
     "data": {
      "text/plain": [
       "0        0\n",
       "1        0\n",
       "2        0\n",
       "3        0\n",
       "4        0\n",
       "        ..\n",
       "79839    1\n",
       "79840    1\n",
       "79841    1\n",
       "79842    1\n",
       "79843    1\n",
       "Name: y, Length: 79844, dtype: int64"
      ]
     },
     "execution_count": 5,
     "metadata": {},
     "output_type": "execute_result"
    }
   ],
   "source": [
    "import pandas as pd \n",
    "from imblearn.over_sampling import SMOTE\n",
    "\n",
    "# X contains all columns except 'y'.\n",
    "X = data.drop(columns='y')  \n",
    "\n",
    "# y contains only the 'y' column.\n",
    "y = data['y']\n",
    "\n",
    "# Initialize SMOTE with a specific random state for reproducibility.\n",
    "smote = SMOTE(random_state=4)  \n",
    "X_res, y_res = smote.fit_resample(X, y)\n",
    "\n",
    "y_res\n"
   ]
  },
  {
   "cell_type": "markdown",
   "id": "11374521",
   "metadata": {},
   "source": [
    "# Module 4 - Task 3: Standardizing Features\n",
    "In this task, the StandardScaler from sklearn.preprocessing is used to standardize the features in the dataset after applying the SMOTE technique. Standardizing the features ensures that all features are on a similar scale, which is crucial for many machine learning algorithms. This preprocessing step prepares the data for modeling, enhancing the model's performance and convergence for predicting insurance success.\n",
    "- Employ 'train_test_split' from 'sklearn.model_selection' to split the scaled features 'x_scaled' and the resampled target variable 'y_resampled' into training and test sets.\n",
    "- Use a train size of 80% ('train_size=0.8') and a test size of 20% ('test_size=0.2') with a specified 'random_state=4'.\n",
    "- Use the varibles x_train, x_test, y_train, y_test."
   ]
  },
  {
   "cell_type": "code",
   "execution_count": 8,
   "id": "4e454ea7",
   "metadata": {},
   "outputs": [
    {
     "data": {
      "text/plain": [
       "array([[ 1.45241608e+00, -1.05327193e-01, -1.59343312e-01, ...,\n",
       "        -3.35987893e-01, -5.20449702e-01,  6.23950162e-01],\n",
       "       [ 2.56820484e-01,  1.52415244e+00,  1.45090949e+00, ...,\n",
       "        -6.48895548e-01, -5.20449702e-01,  6.23950162e-01],\n",
       "       [-6.82576058e-01, -7.57119047e-01, -1.59343312e-01, ...,\n",
       "        -8.62241677e-01, -5.20449702e-01,  6.23950162e-01],\n",
       "       ...,\n",
       "       [ 6.21427000e-04, -4.31223120e-01,  1.45090949e+00, ...,\n",
       "         3.10884094e+00, -5.20449702e-01, -3.67486020e-01],\n",
       "       [ 1.62321545e+00, -1.05327193e-01, -1.59343312e-01, ...,\n",
       "        -3.21764817e-01, -5.20449702e-01, -2.35035838e+00],\n",
       "       [-1.19497417e+00,  1.19825652e+00, -1.76959612e+00, ...,\n",
       "         2.01644352e-01, -5.20449702e-01,  6.23950162e-01]])"
      ]
     },
     "execution_count": 8,
     "metadata": {},
     "output_type": "execute_result"
    }
   ],
   "source": [
    "from sklearn.preprocessing import StandardScaler\n",
    "\n",
    "# Create StandatdScaler object\n",
    "scaler = StandardScaler()\n",
    "\n",
    "# Scale the features\n",
    "x_scaled = scaler.fit_transform(X_res)\n",
    "\n",
    "x_scaled"
   ]
  },
  {
   "cell_type": "markdown",
   "id": "2d1be7ee",
   "metadata": {},
   "source": [
    "# Module 4 - Task 4: Splitting the Dataset for Training and Testing\n",
    "In this task, the dataset is split into training and testing sets using the train_test_split function from sklearn.model_selection. The training set ('x_train' and 'y_train') will be utilized for training the predictive model, while the testing set ('x_test' and 'y_test') will be used to evaluate the model's performance. This step is essential for ensuring an unbiased evaluation of the model's predictive capabilities for insurance success.\n",
    "- Employ 'train_test_split' from 'sklearn.model_selection' to split the scaled features 'x_scaled' and the resampled target variable 'y_resampled' into training and test sets.\n",
    "- Use a train size of 80% ('train_size=0.8') and a test size of 20% ('test_size=0.2') with a specified 'random_state=4'.\n",
    "- Use the varibles x_train, x_test, y_train, y_test."
   ]
  },
  {
   "cell_type": "code",
   "execution_count": 9,
   "id": "98dfb525",
   "metadata": {},
   "outputs": [
    {
     "data": {
      "text/plain": [
       "array([[-5.11776687e-01, -1.40891090e+00, -1.76959612e+00, ...,\n",
       "         1.50447805e+00, -5.20449702e-01,  6.23950162e-01],\n",
       "       [-1.53657291e+00,  8.72360589e-01,  1.45090949e+00, ...,\n",
       "         1.31673345e+00, -5.20449702e-01, -2.35035838e+00],\n",
       "       [-5.11776687e-01, -1.05327193e-01,  1.45090949e+00, ...,\n",
       "        -9.07755518e-01, -5.20449702e-01, -2.35035838e+00],\n",
       "       ...,\n",
       "       [ 6.21427000e-04, -1.05327193e-01, -1.59343312e-01, ...,\n",
       "        -6.31827858e-01,  3.00998504e+00,  6.23950162e-01],\n",
       "       [ 1.11081734e+00,  8.72360589e-01, -1.59343312e-01, ...,\n",
       "         1.26837500e+00, -1.28179175e-01,  6.23950162e-01],\n",
       "       [-5.97176373e-01, -4.31223120e-01, -1.59343312e-01, ...,\n",
       "         1.00951503e+00, -1.28179175e-01,  6.23950162e-01]])"
      ]
     },
     "execution_count": 9,
     "metadata": {},
     "output_type": "execute_result"
    }
   ],
   "source": [
    "from sklearn.model_selection import train_test_split\n",
    "\n",
    "# Split the data into training and test sets\n",
    "x_train, x_test, y_train, y_test = train_test_split(x_scaled, y_res, \n",
    "                                                    train_size=0.8, test_size=0.2, \n",
    "                                                    random_state=4)\n",
    "x_train"
   ]
  },
  {
   "cell_type": "markdown",
   "id": "e96b6c4d",
   "metadata": {},
   "source": [
    "# Module 5 - Task 1: Training and Evaluating a Naive Bayes Classifier\n",
    "In this task, a Gaussian Naive Bayes classifier is trained on the training data ('x_train' and 'y_train') and used to make predictions on the testing data ('x_test'). Subsequently, various evaluation metrics such as accuracy, precision, recall, and F1-score are calculated to assess the model's performance in predicting insurance conversion success. These metrics provide insights into the model's accuracy and effectiveness in making predictions for the target variable.\n",
    "Accuracy: It measures the proportion of correctly predicted instances among the total instances in the dataset. It indicates the overall correctness of predictions, calculated as the ratio of correct predictions to the total number of predictions.\n",
    "Precision: Precision signifies the accuracy of positive predictions made by the model. It measures the proportion of true positive predictions among all positive predictions made by the model. It helps in determining the model's capability to avoid false positives.\n",
    "Recall: Recall (also known as sensitivity or true positive rate) measures the proportion of actual positives that were correctly predicted by the model. It calculates the ratio of true positive predictions to the total actual positives. Recall helps in identifying the model's ability to find all positive instances.\n",
    "F1-score: F1-score is the harmonic mean of precision and recall. It provides a balanced measure between precision and recall. F1-score considers both false positives and false negatives and is useful when dealing with imbalanced class distributions.\n",
    "- Use the Gaussian Naive Bayes classifier by employing 'GaussianNB()'.\n",
    "- Fit the model on the training data using 'model.fit(x_train, y_train)'.\n",
    "- Make predictions on the test set using 'model.predict(x_test)' and store the predictions in 'Y_pred'.\n",
    "- Compute evaluation metrics including Accuracy, Precision, Recall, and F1-score using 'accuracy_score', 'precision_score', 'recall_score', and 'f1_score' with 'average='weighted'' and store it in accuracy,precision,recall,f1 variables.\n",
    "- Display the calculated values for Accuracy, Precision, Recall, and F1-score.\n"
   ]
  },
  {
   "cell_type": "code",
   "execution_count": 10,
   "id": "713a3bdd",
   "metadata": {},
   "outputs": [
    {
     "data": {
      "text/plain": [
       "(0.7426889598597283,\n",
       " 0.7738433805938946,\n",
       " 0.7426889598597283,\n",
       " 0.7350243932852332)"
      ]
     },
     "execution_count": 10,
     "metadata": {},
     "output_type": "execute_result"
    }
   ],
   "source": [
    "from sklearn.naive_bayes import GaussianNB\n",
    "from sklearn.metrics import accuracy_score, precision_score, recall_score, f1_score\n",
    "\n",
    "# Create Gaussian Naive Bayes classifier\n",
    "model = GaussianNB()\n",
    "\n",
    "# Fit the model on the training data\n",
    "model.fit(x_train, y_train)\n",
    "\n",
    "# Make predictions on the test set\n",
    "Y_pred = model.predict(x_test)\n",
    "\n",
    "# Compute evaluation metrics\n",
    "accuracy = accuracy_score(y_test, Y_pred)\n",
    "precision = precision_score(y_test, Y_pred, average='weighted')\n",
    "recall = recall_score(y_test, Y_pred, average='weighted')\n",
    "f1 = f1_score(y_test, Y_pred, average='weighted')\n",
    "\n",
    "# Display the calculated values for Accuracy, Precision, Recall, and F1-score\n",
    "accuracy, precision, recall, f1"
   ]
  },
  {
   "cell_type": "markdown",
   "id": "e0defd80",
   "metadata": {},
   "source": [
    "# Module 5 - Task 2: Training and Evaluating a Linear Discriminant Analysis (LDA) Classifier\n",
    "In this task, a Linear Discriminant Analysis (LDA) classifier is trained on the training data ('x_train' and 'y_train') and used for predictions on the testing data ('x_test'). Following this, various evaluation metrics including accuracy, precision, recall, and F1-score are computed to assess the performance of the LDA model in predicting insurance conversion success. These metrics offer insights into the model's effectiveness and performance compared to other classifiers for this specific predictive task.\n",
    "- Use the discriminant_analysis classifier by employing 'LinearDiscriminantAnalysis()'.\n",
    "- Fit the model on the training data using 'model.fit(x_train, y_train)'.\n",
    "- Make predictions on the test set using 'model.predict(x_test)' and store the predictions in 'Y_pred'.\n",
    "- Compute evaluation metrics including Accuracy, Precision, Recall, and F1-score using 'accuracy_score', 'precision_score', 'recall_score', and 'f1_score' with 'average='weighted'' and store it in accuracy,precision,recall,f1 variables.\n",
    "- Display the calculated values for Accuracy, Precision, Recall, and F1-score."
   ]
  },
  {
   "cell_type": "code",
   "execution_count": 11,
   "id": "6df438ee",
   "metadata": {},
   "outputs": [
    {
     "data": {
      "text/plain": [
       "(0.7840816582127873,\n",
       " 0.7841761581467861,\n",
       " 0.7840816582127873,\n",
       " 0.7840578455642625)"
      ]
     },
     "execution_count": 11,
     "metadata": {},
     "output_type": "execute_result"
    }
   ],
   "source": [
    "from sklearn.discriminant_analysis import LinearDiscriminantAnalysis\n",
    "from sklearn.metrics import accuracy_score, precision_score, recall_score, f1_score\n",
    "\n",
    "# Create Linear Discriminant Analysis classifier\n",
    "model = LinearDiscriminantAnalysis()\n",
    "\n",
    "# Fit the model on the training data\n",
    "model.fit(x_train, y_train)\n",
    "\n",
    "# Make predictions on the test set\n",
    "Y_pred = model.predict(x_test)\n",
    "\n",
    "# Compute evaluation metrics\n",
    "accuracy = accuracy_score(y_test, Y_pred)\n",
    "precision = precision_score(y_test, Y_pred, average='weighted')\n",
    "recall = recall_score(y_test, Y_pred, average='weighted')\n",
    "f1 = f1_score(y_test, Y_pred, average='weighted')\n",
    "\n",
    "# Display the calculated values for Accuracy, Precision, Recall, and F1-score\n",
    "accuracy, precision, recall, f1"
   ]
  },
  {
   "cell_type": "markdown",
   "id": "10c2c6fa",
   "metadata": {},
   "source": [
    "# Module 5 - Task 3: Training and Evaluating a Decision Tree Classifier\n",
    "In this task, a Decision Tree classifier is trained using the training data ('x_train' and 'y_train') and subsequently used for making predictions on the testing data ('x_test'). Evaluation metrics such as accuracy, precision, recall, and F1-score are computed to assess the Decision Tree classifier's performance in predicting insurance conversion success. These metrics provide valuable insights into the model's performance and effectiveness compared to other models in accurately predicting the target variable.\n",
    "- Utilize the Decision Tree Classifier with 'DecisionTreeClassifier()'.\n",
    "- Train the model on the training data using 'model.fit(x_train, y_train)'.\n",
    "- Generate predictions on the test set using 'model.predict(x_test)' and store the predictions in 'Y_pred'.\n",
    "- Calculate evaluation metrics such as Accuracy, Precision, Recall, and F1-score using 'accuracy_score', 'precision_score', 'recall_score', and 'f1_score' with 'average='weighted''.\n",
    "- Display the computed values for Accuracy, Precision, Recall, and F1-score."
   ]
  },
  {
   "cell_type": "code",
   "execution_count": 12,
   "id": "193550a9",
   "metadata": {},
   "outputs": [
    {
     "data": {
      "text/plain": [
       "(0.9061932494207527,\n",
       " 0.9066795715679141,\n",
       " 0.9061932494207527,\n",
       " 0.9061614332002308)"
      ]
     },
     "execution_count": 12,
     "metadata": {},
     "output_type": "execute_result"
    }
   ],
   "source": [
    "from sklearn.tree import DecisionTreeClassifier\n",
    "from sklearn.metrics import accuracy_score, precision_score, recall_score, f1_score\n",
    "\n",
    "# Create Decision Tree Classifier\n",
    "model = DecisionTreeClassifier()\n",
    "\n",
    "# Train the model on the training data\n",
    "model.fit(x_train, y_train)\n",
    "\n",
    "# Generate predictions on the test set\n",
    "Y_pred = model.predict(x_test)\n",
    "\n",
    "# Calculate evaluation metrics\n",
    "accuracy = accuracy_score(y_test, Y_pred)\n",
    "precision = precision_score(y_test, Y_pred, average='weighted')\n",
    "recall = recall_score(y_test, Y_pred, average='weighted')\n",
    "f1 = f1_score(y_test, Y_pred, average='weighted')\n",
    "\n",
    "# Display the computed values for Accuracy, Precision, Recall, and F1-score\n",
    "accuracy, precision, recall, f1"
   ]
  },
  {
   "cell_type": "markdown",
   "id": "b09705dc",
   "metadata": {},
   "source": [
    "# Module 5 - Task 4: Training and Evaluating an Extra Trees Classifier\n",
    "In this task, an Extra Trees classifier is trained on the training data ('x_train' and 'y_train') and used to predict insurance conversion success on the testing data ('x_test'). Subsequently, evaluation metrics including accuracy, precision, recall, and F1-score are calculated to assess the Extra Trees classifier's performance. These metrics aid in understanding how well the model predicts the target variable compared to other classifiers, providing insights into its predictive capabilities for insurance success.\n",
    "- Utilize the sklearn.ensemble with 'ExtraTreesClassifier()'.\n",
    "- Train the model on the training data using 'model.fit(x_train, y_train)'.\n",
    "- Generate predictions on the test set using 'model.predict(x_test)' and store the predictions in 'Y_pred'.\n",
    "- Calculate evaluation metrics such as Accuracy, Precision, Recall, and F1-score using 'accuracy_score', 'precision_score', 'recall_score', and 'f1_score' with 'average='weighted''and store it in accuracy,precision,recall,f1 variables.\n",
    "- Display the computed values for Accuracy, Precision, Recall, and F1-score."
   ]
  },
  {
   "cell_type": "code",
   "execution_count": 13,
   "id": "edcdfdeb",
   "metadata": {},
   "outputs": [
    {
     "data": {
      "text/plain": [
       "(0.9356878952971383,\n",
       " 0.9361216208744304,\n",
       " 0.9356878952971383,\n",
       " 0.9356696410821664)"
      ]
     },
     "execution_count": 13,
     "metadata": {},
     "output_type": "execute_result"
    }
   ],
   "source": [
    "from sklearn.ensemble import ExtraTreesClassifier\n",
    "from sklearn.metrics import accuracy_score, precision_score, recall_score, f1_score\n",
    "\n",
    "# Create Extra Trees Classifier\n",
    "model = ExtraTreesClassifier()\n",
    "\n",
    "# Train the model on the training data\n",
    "model.fit(x_train, y_train)\n",
    "\n",
    "# Generate predictions on the test set\n",
    "Y_pred = model.predict(x_test)\n",
    "\n",
    "# Calculate evaluation metrics\n",
    "accuracy = accuracy_score(y_test, Y_pred)\n",
    "precision = precision_score(y_test, Y_pred, average='weighted')\n",
    "recall = recall_score(y_test, Y_pred, average='weighted')\n",
    "f1 = f1_score(y_test, Y_pred, average='weighted')\n",
    "\n",
    "# Display the computed values for Accuracy, Precision, Recall, and F1-score\n",
    "accuracy, precision, recall, f1\n",
    "\n"
   ]
  },
  {
   "cell_type": "markdown",
   "id": "10779cbc",
   "metadata": {},
   "source": [
    "# Module 5 - Task 5: Training and Evaluating a Random Forest Classifier\n",
    "In this task, a Random Forest classifier is trained on the training data ('x_train' and 'y_train') using 100 trees and a maximum of 3 features. The model is then used to predict insurance conversion success on the testing data ('x_test'). Subsequently, various evaluation metrics including accuracy, precision, recall, and F1-score are calculated to assess the Random Forest classifier's performance. These metrics provide valuable insights into the model's predictive capabilities for insurance success compared to other classifiers.\n",
    "\n",
    "- Employ the Random Forest Classifier with parameters: 'n_estimators=100' and 'max_features=3'.\n",
    "- Train the model on the training data using 'model.fit(x_train, y_train)'.\n",
    "- Generate predictions on the test set using 'model.predict(x_test)' and store the predictions in 'Y_pred'.\n",
    "- Calculate evaluation metrics such as Accuracy, Precision, Recall, and F1-score using 'accuracy_score', 'precision_score', 'recall_score', and 'f1_score' with 'average='weighted'' and store it in accuracy,precision,recall,f1 variables.\n",
    "- Present the computed values for Accuracy, Precision, Recall, and F1-score.\n"
   ]
  },
  {
   "cell_type": "code",
   "execution_count": 14,
   "id": "f44fb27b",
   "metadata": {},
   "outputs": [
    {
     "data": {
      "text/plain": [
       "(0.9348738180224184,\n",
       " 0.9356581942800972,\n",
       " 0.9348738180224184,\n",
       " 0.9348414120592115)"
      ]
     },
     "execution_count": 14,
     "metadata": {},
     "output_type": "execute_result"
    }
   ],
   "source": [
    "from sklearn.ensemble import RandomForestClassifier\n",
    "from sklearn.metrics import accuracy_score, precision_score, recall_score, f1_score\n",
    "\n",
    "# Create Random Forest Classifier with specified parameters\n",
    "model = RandomForestClassifier(n_estimators=100, max_features=3)\n",
    "\n",
    "# Train the model on the training data\n",
    "model.fit(x_train, y_train)\n",
    "\n",
    "# Generate predictions on the test set\n",
    "Y_pred = model.predict(x_test)\n",
    "\n",
    "# Calculate evaluation metrics\n",
    "accuracy = accuracy_score(y_test, Y_pred)\n",
    "precision = precision_score(y_test, Y_pred, average='weighted')\n",
    "recall = recall_score(y_test, Y_pred, average='weighted')\n",
    "f1 = f1_score(y_test, Y_pred, average='weighted')\n",
    "\n",
    "# Display the computed values for Accuracy, Precision, Recall, and F1-score\n",
    "accuracy, precision, recall, f1"
   ]
  },
  {
   "cell_type": "markdown",
   "id": "54e42bb7",
   "metadata": {},
   "source": [
    "# Module 5 - Task 6: Visualizing Confusion Matrix\n",
    "In this task, a confusion matrix is computed using the predictions ('Y_pred') and actual labels ('y_test'). The confusion matrix provides insights into the classifier's performance by showcasing the counts of true positive, true negative, false positive, and false negative predictions. Visualizing the confusion matrix using a heatmap offers a clear representation of the model's performance in predicting insurance conversion success and failure, aiding in understanding its predictive strengths and weaknesses.\n",
    "- Use 'confusion_matrix' from 'sklearn.metrics' to generate the confusion matrix.\n",
    "- Create a heatmap of the confusion matrix using 'sns.heatmap' with parameters 'annot=True', 'cmap='Blues'', and 'fmt='g''.\n",
    "- Label the x-axis as 'Predicted labels' and the y-axis as 'True labels'.\n",
    "- Set the title of the heatmap as 'Confusion Matrix'.\n",
    "- Display the heatmap."
   ]
  },
  {
   "cell_type": "code",
   "execution_count": 15,
   "id": "5391d725",
   "metadata": {},
   "outputs": [
    {
     "data": {
      "image/png": "[encoded data removed]",
      "text/plain": [
       "<Figure size 800x600 with 2 Axes>"
      ]
     },
     "metadata": {},
     "output_type": "display_data"
    }
   ],
   "source": [
    "from sklearn.metrics import confusion_matrix\n",
    "import seaborn as sns\n",
    "import matplotlib.pyplot as plt\n",
    "\n",
    "# Generate confusion matrix\n",
    "conf_matrix = confusion_matrix(y_test, Y_pred)\n",
    "\n",
    "# Create heatmap\n",
    "plt.figure(figsize=(8, 6))\n",
    "sns.heatmap(conf_matrix, annot=True, cmap='Blues', fmt='g')\n",
    "\n",
    "# Set labels and title\n",
    "plt.xlabel('Predicted labels')\n",
    "plt.ylabel('True labels')\n",
    "plt.title('Confusion Matrix')\n",
    "\n",
    "# Display the heatmap\n",
    "plt.show()\n"
   ]
  },
  {
   "cell_type": "markdown",
   "id": "9d620d9e",
   "metadata": {},
   "source": [
    "# Module 5 - Task 7: Making Predictions using the Trained Model\n",
    "In this final task, predictions are made using the trained model ('model') on new data represented by the given input array. The array contains features for a single data point. The 'predict' function is used to generate predictions for insurance conversion success based on the provided data. This step simulates predicting whether a new customer, characterized by the given features, is likely to convert for insurance success based on the trained classifier.\n",
    "- Make predictions using the best model on sample data 'sample_data' with 'predict()'.\n",
    "- Display the predictions obtained from the model.\n"
   ]
  },
  {
   "cell_type": "code",
   "execution_count": 16,
   "id": "fc3ce902",
   "metadata": {},
   "outputs": [
    {
     "data": {
      "text/plain": [
       "array([0])"
      ]
     },
     "execution_count": 16,
     "metadata": {},
     "output_type": "execute_result"
    }
   ],
   "source": [
    "sample_data = [[ 1.11890229,0.54258669,-1.77156471,1.19499835,2.05712294,-1.12586744,0.23026447,-1.00235892,1.44047353,0.62520208]]\n",
    "# Make predictions using the best model\n",
    "prediction = model.predict(sample_data)\n",
    "\n",
    "# Display the predictions obtained from the model\n",
    "prediction\n",
    "\n"
   ]
  },
  {
   "cell_type": "code",
   "execution_count": null,
   "id": "62c0fafb",
   "metadata": {},
   "outputs": [],
   "source": []
  }
 ],
 "metadata": {
  "kernelspec": {
   "display_name": "Python 3 (ipykernel)",
   "language": "python",
   "name": "python3"
  },
  "language_info": {
   "codemirror_mode": {
    "name": "ipython",
    "version": 3
   },
   "file_extension": ".py",
   "mimetype": "text/x-python",
   "name": "python",
   "nbconvert_exporter": "python",
   "pygments_lexer": "ipython3",
   "version": "3.9.13"
  }
 },
 "nbformat": 4,
 "nbformat_minor": 5
}
